{
 "cells": [
  {
   "cell_type": "code",
   "execution_count": 15,
   "id": "4d866a96-8ed1-47e9-b05d-0840a4a7ee7a",
   "metadata": {},
   "outputs": [],
   "source": [
    "import pandas as pd\n",
    "import numpy as np\n",
    "import seaborn as sns\n",
    "import datetime as dt\n",
    "import matplotlib.pyplot as plt\n",
    "from scipy.stats import shapiro\n",
    "from scipy.stats import kruskal\n",
    "from scipy.stats import f_oneway\n",
    "import scipy.stats as stats\n",
    "from scipy.stats import tukey_hsd\n",
    "import scikit_posthocs as sp"
   ]
  },
  {
   "cell_type": "code",
   "execution_count": 16,
   "id": "14511923-894b-4ff3-b194-cba7f0d902c1",
   "metadata": {},
   "outputs": [],
   "source": [
    "#Import Sales Fact table and Sales People Dimensions Table\n",
    "\n",
    "df = pd.read_csv(r'C:/Users/uist1/OneDrive/Desktop/Power Bi Dashboards/Car Sales Dashboard/car_sales_data_reduced.csv')\n",
    "df_salespeople = pd.read_csv(r'C:/Users/uist1/OneDrive/Desktop/Power Bi Dashboards/Car Sales Dashboard/Salespeople Directory.csv')\n",
    "df_manufacture_details = (pd.read_excel(r'C:/Users/uist1/OneDrive/Desktop/Power Bi Dashboards/Car Sales Dashboard/Car Manufacturer Directory.xlsx',\n",
    "                                        sheet_name = 'Sheet2'))"
   ]
  },
  {
   "cell_type": "markdown",
   "id": "768595cf-9f05-4dea-8ba3-53fd117ca3d0",
   "metadata": {},
   "source": [
    "## Data Prep"
   ]
  },
  {
   "cell_type": "code",
   "execution_count": 18,
   "id": "03d6852d-2db9-4a2d-8cc3-edcda1c043d1",
   "metadata": {},
   "outputs": [
    {
     "data": {
      "text/html": [
       "<div>\n",
       "<style scoped>\n",
       "    .dataframe tbody tr th:only-of-type {\n",
       "        vertical-align: middle;\n",
       "    }\n",
       "\n",
       "    .dataframe tbody tr th {\n",
       "        vertical-align: top;\n",
       "    }\n",
       "\n",
       "    .dataframe thead th {\n",
       "        text-align: right;\n",
       "    }\n",
       "</style>\n",
       "<table border=\"1\" class=\"dataframe\">\n",
       "  <thead>\n",
       "    <tr style=\"text-align: right;\">\n",
       "      <th></th>\n",
       "      <th>Date</th>\n",
       "      <th>Salesperson</th>\n",
       "      <th>Customer Name</th>\n",
       "      <th>Car Make</th>\n",
       "      <th>Car Model</th>\n",
       "      <th>Car Year</th>\n",
       "      <th>Sale Price</th>\n",
       "      <th>Commission Rate</th>\n",
       "      <th>Commission Earned</th>\n",
       "    </tr>\n",
       "  </thead>\n",
       "  <tbody>\n",
       "    <tr>\n",
       "      <th>0</th>\n",
       "      <td>01/08/2022</td>\n",
       "      <td>Monica Moore MD</td>\n",
       "      <td>Mary Butler</td>\n",
       "      <td>Nissan</td>\n",
       "      <td>Altima</td>\n",
       "      <td>2018</td>\n",
       "      <td>15983</td>\n",
       "      <td>0.070495</td>\n",
       "      <td>1126.73</td>\n",
       "    </tr>\n",
       "    <tr>\n",
       "      <th>1</th>\n",
       "      <td>15/03/2023</td>\n",
       "      <td>Roberto Rose</td>\n",
       "      <td>Richard Pierce</td>\n",
       "      <td>Nissan</td>\n",
       "      <td>F-150</td>\n",
       "      <td>2016</td>\n",
       "      <td>38474</td>\n",
       "      <td>0.134439</td>\n",
       "      <td>5172.40</td>\n",
       "    </tr>\n",
       "    <tr>\n",
       "      <th>2</th>\n",
       "      <td>29/04/2023</td>\n",
       "      <td>Ashley Ramos</td>\n",
       "      <td>Sandra Moore</td>\n",
       "      <td>Ford</td>\n",
       "      <td>Civic</td>\n",
       "      <td>2016</td>\n",
       "      <td>33340</td>\n",
       "      <td>0.114536</td>\n",
       "      <td>3818.63</td>\n",
       "    </tr>\n",
       "    <tr>\n",
       "      <th>3</th>\n",
       "      <td>04/09/2022</td>\n",
       "      <td>Patrick Harris</td>\n",
       "      <td>Johnny Scott</td>\n",
       "      <td>Ford</td>\n",
       "      <td>Altima</td>\n",
       "      <td>2013</td>\n",
       "      <td>41937</td>\n",
       "      <td>0.092191</td>\n",
       "      <td>3866.20</td>\n",
       "    </tr>\n",
       "    <tr>\n",
       "      <th>4</th>\n",
       "      <td>16/06/2022</td>\n",
       "      <td>Eric Lopez</td>\n",
       "      <td>Vanessa Jones</td>\n",
       "      <td>Honda</td>\n",
       "      <td>Silverado</td>\n",
       "      <td>2022</td>\n",
       "      <td>20256</td>\n",
       "      <td>0.113490</td>\n",
       "      <td>2298.85</td>\n",
       "    </tr>\n",
       "  </tbody>\n",
       "</table>\n",
       "</div>"
      ],
      "text/plain": [
       "         Date      Salesperson   Customer Name Car Make  Car Model  Car Year  \\\n",
       "0  01/08/2022  Monica Moore MD     Mary Butler   Nissan     Altima      2018   \n",
       "1  15/03/2023     Roberto Rose  Richard Pierce   Nissan      F-150      2016   \n",
       "2  29/04/2023     Ashley Ramos    Sandra Moore     Ford      Civic      2016   \n",
       "3  04/09/2022   Patrick Harris    Johnny Scott     Ford     Altima      2013   \n",
       "4  16/06/2022       Eric Lopez   Vanessa Jones    Honda  Silverado      2022   \n",
       "\n",
       "   Sale Price  Commission Rate  Commission Earned  \n",
       "0       15983         0.070495            1126.73  \n",
       "1       38474         0.134439            5172.40  \n",
       "2       33340         0.114536            3818.63  \n",
       "3       41937         0.092191            3866.20  \n",
       "4       20256         0.113490            2298.85  "
      ]
     },
     "execution_count": 18,
     "metadata": {},
     "output_type": "execute_result"
    }
   ],
   "source": [
    "#Examine Fact Table Structure\n",
    "df.head(5)"
   ]
  },
  {
   "cell_type": "code",
   "execution_count": 19,
   "id": "caeff81a-d99a-428e-8354-3cfe967c9c86",
   "metadata": {},
   "outputs": [],
   "source": [
    "#Add index for each Sale\n",
    "df = df.reset_index(drop = True)"
   ]
  },
  {
   "cell_type": "code",
   "execution_count": 20,
   "id": "218e19b7-48be-4400-a63c-4816a5bef730",
   "metadata": {},
   "outputs": [],
   "source": [
    "#Convert Date to Datetime\n",
    "df['Date'] = pd.to_datetime(df['Date'], dayfirst = True)\n",
    "#Add Year Column for Sale\n",
    "df['Sale Year'] = df['Date'].dt.year\n",
    "#Add Month Column for Sale\n",
    "df['Sale Month'] = df['Date'].dt.month"
   ]
  },
  {
   "cell_type": "code",
   "execution_count": 21,
   "id": "fb293d98-5241-4695-b219-47e4363c3d70",
   "metadata": {},
   "outputs": [
    {
     "name": "stdout",
     "output_type": "stream",
     "text": [
      "<class 'pandas.core.frame.DataFrame'>\n",
      "RangeIndex: 100000 entries, 0 to 99999\n",
      "Data columns (total 11 columns):\n",
      " #   Column             Non-Null Count   Dtype         \n",
      "---  ------             --------------   -----         \n",
      " 0   Date               100000 non-null  datetime64[ns]\n",
      " 1   Salesperson        100000 non-null  object        \n",
      " 2   Customer Name      100000 non-null  object        \n",
      " 3   Car Make           100000 non-null  object        \n",
      " 4   Car Model          100000 non-null  object        \n",
      " 5   Car Year           100000 non-null  int64         \n",
      " 6   Sale Price         100000 non-null  int64         \n",
      " 7   Commission Rate    100000 non-null  float64       \n",
      " 8   Commission Earned  100000 non-null  float64       \n",
      " 9   Sale Year          100000 non-null  int32         \n",
      " 10  Sale Month         100000 non-null  int32         \n",
      "dtypes: datetime64[ns](1), float64(2), int32(2), int64(2), object(4)\n",
      "memory usage: 7.6+ MB\n"
     ]
    }
   ],
   "source": [
    "df.info()"
   ]
  },
  {
   "cell_type": "code",
   "execution_count": 22,
   "id": "8486a17f-ed58-449b-9b32-5d708d11f3dd",
   "metadata": {},
   "outputs": [],
   "source": [
    "##Join Salesdata with Salesperson information\n",
    "Joined_Dataset = pd.merge(df, df_salespeople, on = 'Salesperson', how = 'left')"
   ]
  },
  {
   "cell_type": "code",
   "execution_count": 23,
   "id": "aceb05f7-69d1-4099-855f-db264aa2c8a5",
   "metadata": {},
   "outputs": [
    {
     "name": "stdout",
     "output_type": "stream",
     "text": [
      "<class 'pandas.core.frame.DataFrame'>\n",
      "RangeIndex: 100000 entries, 0 to 99999\n",
      "Data columns (total 16 columns):\n",
      " #   Column                                Non-Null Count   Dtype         \n",
      "---  ------                                --------------   -----         \n",
      " 0   Date                                  100000 non-null  datetime64[ns]\n",
      " 1   Salesperson                           100000 non-null  object        \n",
      " 2   Customer Name                         100000 non-null  object        \n",
      " 3   Car Make                              100000 non-null  object        \n",
      " 4   Car Model                             100000 non-null  object        \n",
      " 5   Car Year                              100000 non-null  int64         \n",
      " 6   Sale Price                            100000 non-null  int64         \n",
      " 7   Commission Rate                       100000 non-null  float64       \n",
      " 8   Commission Earned                     100000 non-null  float64       \n",
      " 9   Sale Year                             100000 non-null  int32         \n",
      " 10  Sale Month                            100000 non-null  int32         \n",
      " 11  Salesperson_ID                        100000 non-null  int64         \n",
      " 12  Salary                                100000 non-null  int64         \n",
      " 13  Annual Bonus                          100000 non-null  int64         \n",
      " 14  Salary Percentage Required for Bonus  100000 non-null  int64         \n",
      " 15  State                                 100000 non-null  object        \n",
      "dtypes: datetime64[ns](1), float64(2), int32(2), int64(6), object(5)\n",
      "memory usage: 11.4+ MB\n"
     ]
    }
   ],
   "source": [
    "Joined_Dataset.info()"
   ]
  },
  {
   "cell_type": "code",
   "execution_count": 24,
   "id": "961fab68-709b-40d0-b56e-7f5af8403d6a",
   "metadata": {},
   "outputs": [],
   "source": [
    "##Create required matcher to join Sales to Manufacture details and for Joined Dataset \n",
    "#Manufacturer\n",
    "df_manufacture_details['Matcher'] = df_manufacture_details['Model'].astype(str) + \" \" + df_manufacture_details['Model Year'].astype(str)\n",
    "#Sales\n",
    "Joined_Dataset['Matcher'] = Joined_Dataset['Car Model'].astype(str) + \" \" + Joined_Dataset['Car Year'].astype(str)"
   ]
  },
  {
   "cell_type": "code",
   "execution_count": 25,
   "id": "70c07a43-c66f-4f26-9a65-946e95af20e5",
   "metadata": {},
   "outputs": [],
   "source": [
    "##Join Sales to Manufacture \n",
    "Joined_Dataset = pd.merge(Joined_Dataset, df_manufacture_details, on = 'Matcher', how = 'left').reset_index(drop = True)"
   ]
  },
  {
   "cell_type": "code",
   "execution_count": 26,
   "id": "09bf6304-212f-4693-b5b2-50c240227f4d",
   "metadata": {},
   "outputs": [
    {
     "name": "stdout",
     "output_type": "stream",
     "text": [
      "<class 'pandas.core.frame.DataFrame'>\n",
      "RangeIndex: 100000 entries, 0 to 99999\n",
      "Data columns (total 21 columns):\n",
      " #   Column                                Non-Null Count   Dtype         \n",
      "---  ------                                --------------   -----         \n",
      " 0   Date                                  100000 non-null  datetime64[ns]\n",
      " 1   Salesperson                           100000 non-null  object        \n",
      " 2   Customer Name                         100000 non-null  object        \n",
      " 3   Car Make                              100000 non-null  object        \n",
      " 4   Car Model                             100000 non-null  object        \n",
      " 5   Car Year                              100000 non-null  int64         \n",
      " 6   Sale Price                            100000 non-null  int64         \n",
      " 7   Commission Rate                       100000 non-null  float64       \n",
      " 8   Commission Earned                     100000 non-null  float64       \n",
      " 9   Sale Year                             100000 non-null  int32         \n",
      " 10  Sale Month                            100000 non-null  int32         \n",
      " 11  Salesperson_ID                        100000 non-null  int64         \n",
      " 12  Salary                                100000 non-null  int64         \n",
      " 13  Annual Bonus                          100000 non-null  int64         \n",
      " 14  Salary Percentage Required for Bonus  100000 non-null  int64         \n",
      " 15  State                                 100000 non-null  object        \n",
      " 16  Matcher                               100000 non-null  object        \n",
      " 17  Manufacturer                          100000 non-null  object        \n",
      " 18  Model                                 100000 non-null  object        \n",
      " 19  Model Year                            100000 non-null  int64         \n",
      " 20  Current Value                         100000 non-null  int64         \n",
      "dtypes: datetime64[ns](1), float64(2), int32(2), int64(8), object(8)\n",
      "memory usage: 15.3+ MB\n"
     ]
    }
   ],
   "source": [
    "Joined_Dataset.info()"
   ]
  },
  {
   "cell_type": "code",
   "execution_count": 27,
   "id": "5e8c15c1-3bef-4b2a-9ad4-b7cd4d3b62e6",
   "metadata": {},
   "outputs": [],
   "source": [
    "##Drop Uneeded Columns\n",
    "Joined_Dataset.drop(Joined_Dataset.columns[16: 18], axis = 1, inplace = True)"
   ]
  },
  {
   "cell_type": "code",
   "execution_count": 28,
   "id": "77bacc84-967e-4ffc-aa4f-3a49d5a09aac",
   "metadata": {},
   "outputs": [
    {
     "name": "stdout",
     "output_type": "stream",
     "text": [
      "<class 'pandas.core.frame.DataFrame'>\n",
      "RangeIndex: 100000 entries, 0 to 99999\n",
      "Data columns (total 19 columns):\n",
      " #   Column                                Non-Null Count   Dtype         \n",
      "---  ------                                --------------   -----         \n",
      " 0   Date                                  100000 non-null  datetime64[ns]\n",
      " 1   Salesperson                           100000 non-null  object        \n",
      " 2   Customer Name                         100000 non-null  object        \n",
      " 3   Car Make                              100000 non-null  object        \n",
      " 4   Car Model                             100000 non-null  object        \n",
      " 5   Car Year                              100000 non-null  int64         \n",
      " 6   Sale Price                            100000 non-null  int64         \n",
      " 7   Commission Rate                       100000 non-null  float64       \n",
      " 8   Commission Earned                     100000 non-null  float64       \n",
      " 9   Sale Year                             100000 non-null  int32         \n",
      " 10  Sale Month                            100000 non-null  int32         \n",
      " 11  Salesperson_ID                        100000 non-null  int64         \n",
      " 12  Salary                                100000 non-null  int64         \n",
      " 13  Annual Bonus                          100000 non-null  int64         \n",
      " 14  Salary Percentage Required for Bonus  100000 non-null  int64         \n",
      " 15  State                                 100000 non-null  object        \n",
      " 16  Model                                 100000 non-null  object        \n",
      " 17  Model Year                            100000 non-null  int64         \n",
      " 18  Current Value                         100000 non-null  int64         \n",
      "dtypes: datetime64[ns](1), float64(2), int32(2), int64(8), object(6)\n",
      "memory usage: 13.7+ MB\n"
     ]
    }
   ],
   "source": [
    "Joined_Dataset.info()"
   ]
  },
  {
   "cell_type": "code",
   "execution_count": 29,
   "id": "0f6b3ef1-b894-4acc-a880-8180a8d0bea7",
   "metadata": {},
   "outputs": [
    {
     "data": {
      "text/plain": [
       "Date                                    0\n",
       "Salesperson                             0\n",
       "Customer Name                           0\n",
       "Car Make                                0\n",
       "Car Model                               0\n",
       "Car Year                                0\n",
       "Sale Price                              0\n",
       "Commission Rate                         0\n",
       "Commission Earned                       0\n",
       "Sale Year                               0\n",
       "Sale Month                              0\n",
       "Salesperson_ID                          0\n",
       "Salary                                  0\n",
       "Annual Bonus                            0\n",
       "Salary Percentage Required for Bonus    0\n",
       "State                                   0\n",
       "Model                                   0\n",
       "Model Year                              0\n",
       "Current Value                           0\n",
       "dtype: int64"
      ]
     },
     "execution_count": 29,
     "metadata": {},
     "output_type": "execute_result"
    }
   ],
   "source": [
    "#Check for nulls\n",
    "Joined_Dataset.isnull().sum()"
   ]
  },
  {
   "cell_type": "code",
   "execution_count": 30,
   "id": "29fec52a-0306-4391-bc7c-67f09c093c12",
   "metadata": {},
   "outputs": [],
   "source": [
    "#Apply Lambda function to assign sale performance (sale price against car value)\n",
    "Joined_Dataset['Sale Performance'] = (Joined_Dataset.apply(lambda row: 'Above Asking Price' if row['Sale Price'] > row['Current Value'] \n",
    "                                                           else \"Asking Price\" if row['Sale Price'] == row['Current Value'] else\n",
    "                                                           \"Below Asking Price\", axis = 1))"
   ]
  },
  {
   "cell_type": "code",
   "execution_count": 31,
   "id": "7ef66e79-30e5-4d65-bad2-e86ef00aeee8",
   "metadata": {},
   "outputs": [],
   "source": [
    "#Add Sale Index for Aggrigation \n",
    "Joined_Dataset.reset_index(drop = True, inplace = True)\n",
    "Joined_Dataset.index = Joined_Dataset.index + 1\n",
    "Joined_Dataset.reset_index(drop = False, inplace = True)"
   ]
  },
  {
   "cell_type": "code",
   "execution_count": 32,
   "id": "241a48f5-45ee-425d-b376-383ed8695be6",
   "metadata": {},
   "outputs": [],
   "source": [
    "##Create Pivot to see model performance\n",
    "Performance_Pivot = Joined_Dataset.pivot_table(values = 'index', index = 'Car Model', columns = 'Sale Performance', aggfunc = 'count')"
   ]
  },
  {
   "cell_type": "code",
   "execution_count": 33,
   "id": "827d3338-6267-4737-9a80-d74e8c1dfd63",
   "metadata": {},
   "outputs": [],
   "source": [
    "##Display Percentage of sales above asking price\n",
    "Performance_Pivot['Percentage_>_asking_Price'] = (Performance_Pivot['Above Asking Price'] / \n",
    "                                                  (Performance_Pivot['Above Asking Price'] + Performance_Pivot['Below Asking Price']).round(2))\n"
   ]
  },
  {
   "cell_type": "code",
   "execution_count": 34,
   "id": "d0e6349e-0f83-46d9-8ca5-8d3efc68569a",
   "metadata": {},
   "outputs": [
    {
     "data": {
      "text/html": [
       "<div>\n",
       "<style scoped>\n",
       "    .dataframe tbody tr th:only-of-type {\n",
       "        vertical-align: middle;\n",
       "    }\n",
       "\n",
       "    .dataframe tbody tr th {\n",
       "        vertical-align: top;\n",
       "    }\n",
       "\n",
       "    .dataframe thead th {\n",
       "        text-align: right;\n",
       "    }\n",
       "</style>\n",
       "<table border=\"1\" class=\"dataframe\">\n",
       "  <thead>\n",
       "    <tr style=\"text-align: right;\">\n",
       "      <th>Sale Performance</th>\n",
       "      <th>Above Asking Price</th>\n",
       "      <th>Asking Price</th>\n",
       "      <th>Below Asking Price</th>\n",
       "      <th>Percentage_&gt;_asking_Price</th>\n",
       "    </tr>\n",
       "    <tr>\n",
       "      <th>Car Model</th>\n",
       "      <th></th>\n",
       "      <th></th>\n",
       "      <th></th>\n",
       "      <th></th>\n",
       "    </tr>\n",
       "  </thead>\n",
       "  <tbody>\n",
       "    <tr>\n",
       "      <th>Altima</th>\n",
       "      <td>17256.0</td>\n",
       "      <td>1.0</td>\n",
       "      <td>2641.0</td>\n",
       "      <td>0.867266</td>\n",
       "    </tr>\n",
       "    <tr>\n",
       "      <th>Civic</th>\n",
       "      <td>16699.0</td>\n",
       "      <td>1.0</td>\n",
       "      <td>3226.0</td>\n",
       "      <td>0.838093</td>\n",
       "    </tr>\n",
       "    <tr>\n",
       "      <th>Corolla</th>\n",
       "      <td>18062.0</td>\n",
       "      <td>NaN</td>\n",
       "      <td>1936.0</td>\n",
       "      <td>0.903190</td>\n",
       "    </tr>\n",
       "    <tr>\n",
       "      <th>F-150</th>\n",
       "      <td>11034.0</td>\n",
       "      <td>NaN</td>\n",
       "      <td>9097.0</td>\n",
       "      <td>0.548110</td>\n",
       "    </tr>\n",
       "    <tr>\n",
       "      <th>Silverado</th>\n",
       "      <td>11964.0</td>\n",
       "      <td>1.0</td>\n",
       "      <td>8082.0</td>\n",
       "      <td>0.596827</td>\n",
       "    </tr>\n",
       "  </tbody>\n",
       "</table>\n",
       "</div>"
      ],
      "text/plain": [
       "Sale Performance  Above Asking Price  Asking Price  Below Asking Price  \\\n",
       "Car Model                                                                \n",
       "Altima                       17256.0           1.0              2641.0   \n",
       "Civic                        16699.0           1.0              3226.0   \n",
       "Corolla                      18062.0           NaN              1936.0   \n",
       "F-150                        11034.0           NaN              9097.0   \n",
       "Silverado                    11964.0           1.0              8082.0   \n",
       "\n",
       "Sale Performance  Percentage_>_asking_Price  \n",
       "Car Model                                    \n",
       "Altima                             0.867266  \n",
       "Civic                              0.838093  \n",
       "Corolla                            0.903190  \n",
       "F-150                              0.548110  \n",
       "Silverado                          0.596827  "
      ]
     },
     "execution_count": 34,
     "metadata": {},
     "output_type": "execute_result"
    }
   ],
   "source": [
    "##Best Performing Model is Corolla with around 90% of Sales being above asking Price, F-150 is the worst performing model with around \n",
    "##45% selling for less than asking price\n",
    "Performance_Pivot"
   ]
  },
  {
   "cell_type": "markdown",
   "id": "954ba47f-9a5f-4d30-9065-d8d1120c58bf",
   "metadata": {},
   "source": [
    "## Investigation #1 - Sales performance for F-150 sales in the context of state sold in "
   ]
  },
  {
   "cell_type": "code",
   "execution_count": 36,
   "id": "700f4e8f-dd80-46f8-b317-f78dc9ae47b2",
   "metadata": {},
   "outputs": [],
   "source": [
    "##Filter Df for F-150\n",
    "F_150_Df = Joined_Dataset[(Joined_Dataset['Car Model'] == 'F-150') & (Joined_Dataset['Car Make'] == 'Chevrolet')]"
   ]
  },
  {
   "cell_type": "code",
   "execution_count": 37,
   "id": "afc28f96-8bca-4d3c-819a-f518a5bd28a0",
   "metadata": {},
   "outputs": [],
   "source": [
    "##Drop uneeded columns \n",
    "F_150_Cols = F_150_Df.iloc[ : , [5, 16, 20]]"
   ]
  },
  {
   "cell_type": "code",
   "execution_count": 38,
   "id": "4f083ba4-fad2-453c-bfea-72cace241e6c",
   "metadata": {},
   "outputs": [],
   "source": [
    "#Examine Distribution of Sales by States\n",
    "F_150_Gb = F_150_Cols.groupby('State').count()"
   ]
  },
  {
   "cell_type": "code",
   "execution_count": 39,
   "id": "be73bc9c-04b0-47b6-ad9f-89c290e3e86e",
   "metadata": {},
   "outputs": [],
   "source": [
    "##Select the states with the highest number of sales to generate the widest sample\n",
    "F_150_Gb = F_150_Gb.sort_values(by='Car Model', ascending = False).reset_index(drop = False)"
   ]
  },
  {
   "cell_type": "code",
   "execution_count": 40,
   "id": "fb8ce9bf-5076-496e-9d02-374c35ab32cf",
   "metadata": {},
   "outputs": [],
   "source": [
    "#Create Top 5 list to filter main Df by\n",
    "top5 = F_150_Gb.iloc[ : 5, [0]]\n",
    "#Convert to list\n",
    "top5 = top5['State'].to_list()\n",
    "#Filter Main Dataframe to just F-150 sales from top 5 states\n",
    "Top5_F150 = Joined_Dataset[(Joined_Dataset['State'].isin(top5)) & (Joined_Dataset['Car Model'] == 'F-150') & (Joined_Dataset['Car Make'] == 'Chevrolet')]"
   ]
  },
  {
   "cell_type": "code",
   "execution_count": 41,
   "id": "4eb0c935-0d73-4919-83cd-de8372b7529a",
   "metadata": {},
   "outputs": [],
   "source": [
    "#Drop all columns except sales and state\n",
    "Top5_F150 = Top5_F150.iloc[ : , [7, 16]]\n",
    "#Group States to pass into Levene's test for Homoskedasisity\n",
    "Grouped_states = Top5_F150.groupby(['State'])"
   ]
  },
  {
   "cell_type": "code",
   "execution_count": 42,
   "id": "8b103b74-dea6-444c-9c6d-cda479367dd4",
   "metadata": {},
   "outputs": [
    {
     "data": {
      "text/plain": [
       "ShapiroResult(statistic=0.9489830880190584, pvalue=9.601073687539378e-12)"
      ]
     },
     "execution_count": 42,
     "metadata": {},
     "output_type": "execute_result"
    }
   ],
   "source": [
    "#Prepare Data for shaprio test (test for normality)\n",
    "Test_Data = Top5_F150['Sale Price']\n",
    "#p < 0.05 so there is not signigicant evidence to say data is from a normally distributed dataset \n",
    "shapiro(Test_Data)"
   ]
  },
  {
   "cell_type": "code",
   "execution_count": 43,
   "id": "43e83c71-5ee0-4780-baa1-a7c5a49ede61",
   "metadata": {},
   "outputs": [
    {
     "data": {
      "text/plain": [
       "<Axes: xlabel='Sale Price', ylabel='Count'>"
      ]
     },
     "execution_count": 43,
     "metadata": {},
     "output_type": "execute_result"
    },
    {
     "data": {
      "image/png": "[encoded data removed]",
      "text/plain": [
       "<Figure size 640x480 with 1 Axes>"
      ]
     },
     "metadata": {},
     "output_type": "display_data"
    }
   ],
   "source": [
    "#Create a histogram to visualise this distribution \n",
    "sns.histplot(data=Top5_F150, x='Sale Price')\n",
    "#Data is clearely not normally distrbuted"
   ]
  },
  {
   "cell_type": "code",
   "execution_count": 44,
   "id": "f997d774-fd02-4bb6-a165-889570b6e736",
   "metadata": {},
   "outputs": [
    {
     "data": {
      "text/html": [
       "<div>\n",
       "<style scoped>\n",
       "    .dataframe tbody tr th:only-of-type {\n",
       "        vertical-align: middle;\n",
       "    }\n",
       "\n",
       "    .dataframe tbody tr th {\n",
       "        vertical-align: top;\n",
       "    }\n",
       "\n",
       "    .dataframe thead th {\n",
       "        text-align: right;\n",
       "    }\n",
       "</style>\n",
       "<table border=\"1\" class=\"dataframe\">\n",
       "  <thead>\n",
       "    <tr style=\"text-align: right;\">\n",
       "      <th></th>\n",
       "      <th>Sale Price</th>\n",
       "      <th>State</th>\n",
       "    </tr>\n",
       "  </thead>\n",
       "  <tbody>\n",
       "    <tr>\n",
       "      <th>239</th>\n",
       "      <td>47493</td>\n",
       "      <td>Iowa</td>\n",
       "    </tr>\n",
       "    <tr>\n",
       "      <th>857</th>\n",
       "      <td>23308</td>\n",
       "      <td>Iowa</td>\n",
       "    </tr>\n",
       "    <tr>\n",
       "      <th>1279</th>\n",
       "      <td>41214</td>\n",
       "      <td>Nebraska</td>\n",
       "    </tr>\n",
       "    <tr>\n",
       "      <th>1343</th>\n",
       "      <td>15565</td>\n",
       "      <td>Georgia</td>\n",
       "    </tr>\n",
       "    <tr>\n",
       "      <th>1401</th>\n",
       "      <td>34633</td>\n",
       "      <td>Iowa</td>\n",
       "    </tr>\n",
       "    <tr>\n",
       "      <th>...</th>\n",
       "      <td>...</td>\n",
       "      <td>...</td>\n",
       "    </tr>\n",
       "    <tr>\n",
       "      <th>99548</th>\n",
       "      <td>16226</td>\n",
       "      <td>Wyoming</td>\n",
       "    </tr>\n",
       "    <tr>\n",
       "      <th>99551</th>\n",
       "      <td>16983</td>\n",
       "      <td>Nebraska</td>\n",
       "    </tr>\n",
       "    <tr>\n",
       "      <th>99719</th>\n",
       "      <td>38790</td>\n",
       "      <td>Nebraska</td>\n",
       "    </tr>\n",
       "    <tr>\n",
       "      <th>99823</th>\n",
       "      <td>49236</td>\n",
       "      <td>Nebraska</td>\n",
       "    </tr>\n",
       "    <tr>\n",
       "      <th>99968</th>\n",
       "      <td>38963</td>\n",
       "      <td>Iowa</td>\n",
       "    </tr>\n",
       "  </tbody>\n",
       "</table>\n",
       "<p>476 rows × 2 columns</p>\n",
       "</div>"
      ],
      "text/plain": [
       "       Sale Price     State\n",
       "239         47493      Iowa\n",
       "857         23308      Iowa\n",
       "1279        41214  Nebraska\n",
       "1343        15565   Georgia\n",
       "1401        34633      Iowa\n",
       "...           ...       ...\n",
       "99548       16226   Wyoming\n",
       "99551       16983  Nebraska\n",
       "99719       38790  Nebraska\n",
       "99823       49236  Nebraska\n",
       "99968       38963      Iowa\n",
       "\n",
       "[476 rows x 2 columns]"
      ]
     },
     "execution_count": 44,
     "metadata": {},
     "output_type": "execute_result"
    }
   ],
   "source": [
    "Top5_F150"
   ]
  },
  {
   "cell_type": "code",
   "execution_count": 45,
   "id": "7393fe3f-0d8d-4bf8-b000-108db9463698",
   "metadata": {},
   "outputs": [
    {
     "data": {
      "text/plain": [
       "<seaborn.axisgrid.FacetGrid at 0x28c9925d0d0>"
      ]
     },
     "execution_count": 45,
     "metadata": {},
     "output_type": "execute_result"
    },
    {
     "data": {
      "image/png": "[encoded data removed]",
      "text/plain": [
       "<Figure size 2500x500 with 5 Axes>"
      ]
     },
     "metadata": {},
     "output_type": "display_data"
    }
   ],
   "source": [
    "#Further investigation reveals that distrubtion is not normal across any states. We can therefore confirm that this data is not normally distrubted\n",
    "sns.displot(\n",
    "    Top5_F150, x='Sale Price', col = 'State',\n",
    ")\n",
    "#As the data has not been randomly sampled from the population we cannot apply the central limit theroem "
   ]
  },
  {
   "cell_type": "code",
   "execution_count": 46,
   "id": "c4e2173a-0a0e-4228-a69b-dce594e9a4a8",
   "metadata": {},
   "outputs": [],
   "source": [
    "#Create Groups\n",
    "Wyoming = Grouped_states.get_group(('Wyoming',)).iloc[ : , [0]]\n",
    "Georgia = Grouped_states.get_group(('Georgia',)).iloc[ : , [0]]\n",
    "Iowa = Grouped_states.get_group(('Iowa',)).iloc[ : , [0]]\n",
    "Rhode_Island = Grouped_states.get_group(('Rhode Island',)).iloc[ : , [0]]\n",
    "Nebraska = Grouped_states.get_group(('Nebraska',)).iloc[ : , [0]]"
   ]
  },
  {
   "cell_type": "code",
   "execution_count": 47,
   "id": "5608edb9-4807-47eb-a0c8-a239ff96f5d6",
   "metadata": {},
   "outputs": [
    {
     "data": {
      "text/plain": [
       "LeveneResult(statistic=array([0.41542422]), pvalue=array([0.79755582]))"
      ]
     },
     "execution_count": 47,
     "metadata": {},
     "output_type": "execute_result"
    }
   ],
   "source": [
    "#Conduct levene Test to establish if variance in states is equal\n",
    "stats.levene(Wyoming, Georgia, Iowa, Rhode_Island, Nebraska, center='median')\n",
    "#p > then .05. Accept Null Hypothesis. Variance Between groups is equal"
   ]
  },
  {
   "cell_type": "code",
   "execution_count": 48,
   "id": "24761cb5-1598-475f-aa73-8ac05ac06552",
   "metadata": {},
   "outputs": [
    {
     "name": "stdout",
     "output_type": "stream",
     "text": [
      "F-statistic: [0.95021859], p-value: [0.43465284]\n"
     ]
    }
   ],
   "source": [
    "#Conduct one way Anova examining top 5 states\n",
    "F, p = f_oneway(Wyoming, Georgia, Iowa, Rhode_Island, Nebraska)\n",
    "print(f\"F-statistic: {F}, p-value: {p}\")\n",
    "#p < 0.05, Reject the null Hypothesis. The sale price of an F-150 vehicle is significantly different between states "
   ]
  },
  {
   "cell_type": "markdown",
   "id": "a848483f-4328-4d25-aef1-89c41d046a32",
   "metadata": {},
   "source": [
    "Although Results of ANOVA indicate that there is a significant difference in the price an F-150 is sold for dependent upon the state it is sold in\n",
    "due to the clear lack of normality (Homoskedasisiity) the data violates the normality assumption required for a parametric test such as an ANOVA\n",
    "furthermore as the data was not a random sample of the population we cannot apply the central limit theroem which allows for this assumption to be bypassed therefore to procede we will look to use a non-parametric test"
   ]
  },
  {
   "cell_type": "markdown",
   "id": "6295f8cd-63a0-4136-8aec-118bc0d25a0e",
   "metadata": {},
   "source": [
    "## Kruskal Wallis test"
   ]
  },
  {
   "cell_type": "markdown",
   "id": "47d1e01b-0626-4c5a-a088-13c0131e5a58",
   "metadata": {},
   "source": [
    "Standard non-parametric test for this scenario is the Kruskal Wallis test. The three key assumptions are met for this test\n",
    "1: Data is not normally distributed\n",
    "2: Output Variable is continuous \n",
    "3: The observations are independed of each other"
   ]
  },
  {
   "cell_type": "code",
   "execution_count": 52,
   "id": "e5db3fbf-5d5f-4884-bb45-821c366831e4",
   "metadata": {},
   "outputs": [
    {
     "name": "stdout",
     "output_type": "stream",
     "text": [
      "KruskalResult(statistic=array([3.74424178]), pvalue=array([0.44172395]))\n"
     ]
    }
   ],
   "source": [
    "Result = stats.kruskal(Wyoming, Georgia, Iowa, Rhode_Island, Nebraska)\n",
    "\n",
    "print(Result)"
   ]
  },
  {
   "cell_type": "markdown",
   "id": "1d94d604-9552-496f-a816-9103d5326c17",
   "metadata": {},
   "source": [
    "p< 0.05 therefore we can reject the null hypothesis that the mean sale price of the F-150 is equal across the 5 observed states\n",
    "proceed with Post-Hoc Dunn test to examine mean sale price comparison between states, and where the significant difference are "
   ]
  },
  {
   "cell_type": "code",
   "execution_count": 54,
   "id": "59dc7b95-d1f0-466b-92b0-fc3092cdaf68",
   "metadata": {},
   "outputs": [
    {
     "data": {
      "text/html": [
       "<div>\n",
       "<style scoped>\n",
       "    .dataframe tbody tr th:only-of-type {\n",
       "        vertical-align: middle;\n",
       "    }\n",
       "\n",
       "    .dataframe tbody tr th {\n",
       "        vertical-align: top;\n",
       "    }\n",
       "\n",
       "    .dataframe thead th {\n",
       "        text-align: right;\n",
       "    }\n",
       "</style>\n",
       "<table border=\"1\" class=\"dataframe\">\n",
       "  <thead>\n",
       "    <tr style=\"text-align: right;\">\n",
       "      <th></th>\n",
       "      <th>1</th>\n",
       "      <th>2</th>\n",
       "      <th>3</th>\n",
       "      <th>4</th>\n",
       "      <th>5</th>\n",
       "    </tr>\n",
       "  </thead>\n",
       "  <tbody>\n",
       "    <tr>\n",
       "      <th>0</th>\n",
       "      <td>1.0</td>\n",
       "      <td>1.0</td>\n",
       "      <td>1.0</td>\n",
       "      <td>1.0</td>\n",
       "      <td>1.0</td>\n",
       "    </tr>\n",
       "    <tr>\n",
       "      <th>1</th>\n",
       "      <td>1.0</td>\n",
       "      <td>1.0</td>\n",
       "      <td>1.0</td>\n",
       "      <td>1.0</td>\n",
       "      <td>1.0</td>\n",
       "    </tr>\n",
       "    <tr>\n",
       "      <th>2</th>\n",
       "      <td>1.0</td>\n",
       "      <td>1.0</td>\n",
       "      <td>1.0</td>\n",
       "      <td>1.0</td>\n",
       "      <td>1.0</td>\n",
       "    </tr>\n",
       "    <tr>\n",
       "      <th>3</th>\n",
       "      <td>1.0</td>\n",
       "      <td>1.0</td>\n",
       "      <td>1.0</td>\n",
       "      <td>1.0</td>\n",
       "      <td>1.0</td>\n",
       "    </tr>\n",
       "    <tr>\n",
       "      <th>4</th>\n",
       "      <td>1.0</td>\n",
       "      <td>1.0</td>\n",
       "      <td>1.0</td>\n",
       "      <td>1.0</td>\n",
       "      <td>1.0</td>\n",
       "    </tr>\n",
       "  </tbody>\n",
       "</table>\n",
       "</div>"
      ],
      "text/plain": [
       "     1    2    3    4    5\n",
       "0  1.0  1.0  1.0  1.0  1.0\n",
       "1  1.0  1.0  1.0  1.0  1.0\n",
       "2  1.0  1.0  1.0  1.0  1.0\n",
       "3  1.0  1.0  1.0  1.0  1.0\n",
       "4  1.0  1.0  1.0  1.0  1.0"
      ]
     },
     "execution_count": 54,
     "metadata": {},
     "output_type": "execute_result"
    }
   ],
   "source": [
    "data = [Top5_F150[Top5_F150['State'] == 'Wyoming']['Sale Price'],\n",
    "        Top5_F150[Top5_F150['State'] == 'Georgia']['Sale Price'],\n",
    "        Top5_F150[Top5_F150['State'] == 'Iowa']['Sale Price'],\n",
    "        Top5_F150[Top5_F150['State'] == 'Rhode Island']['Sale Price'],\n",
    "        Top5_F150[Top5_F150['State'] == 'Nebraska']['Sale Price']]\n",
    "\n",
    "p_values = sp.posthoc_dunn(data, p_adjust='holm').reset_index(drop = True)\n",
    "\n",
    "p_values \n",
    "# Results of the Dunn Test reveal the two states where the mean sale price is stastistically signifcant is Hawaii and South Dakota "
   ]
  },
  {
   "cell_type": "code",
   "execution_count": null,
   "id": "a763cc71-0e3b-49b2-af48-cb211528aaa7",
   "metadata": {},
   "outputs": [],
   "source": []
  }
 ],
 "metadata": {
  "kernelspec": {
   "display_name": "Python [conda env:base] *",
   "language": "python",
   "name": "conda-base-py"
  },
  "language_info": {
   "codemirror_mode": {
    "name": "ipython",
    "version": 3
   },
   "file_extension": ".py",
   "mimetype": "text/x-python",
   "name": "python",
   "nbconvert_exporter": "python",
   "pygments_lexer": "ipython3",
   "version": "3.12.7"
  }
 },
 "nbformat": 4,
 "nbformat_minor": 5
}
